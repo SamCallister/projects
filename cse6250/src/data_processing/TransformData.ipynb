{
 "cells": [
  {
   "cell_type": "code",
   "execution_count": 1,
   "metadata": {},
   "outputs": [],
   "source": [
    "import imp\n",
    "from pyspark.sql import SparkSession\n",
    "from pyspark import SparkContext\n",
    "from loader import readDataAsTable, readDataIntoRDD\n",
    "from first_culture import firstCulture\n",
    "import first_antibiotic\n",
    "import pyspark.sql.functions as func\n",
    "\n",
    "PATH_TO_DATA = '/home/jovyan/work/data/'\n",
    "\n",
    "ss = SparkSession.builder \\\n",
    "    .master('local[*]') \\\n",
    "    .appName('Big Data Project') \\\n",
    "    .config('spark.executor.memory', '8G') \\\n",
    "    .config('spark.driver.memory', '2G') \\\n",
    "    .config('spark.serializer', 'org.apache.spark.serializer.KryoSerializer') \\\n",
    "    .config('spark.kryoserializer.buffer', '24') \\\n",
    "    .getOrCreate()"
   ]
  },
  {
   "cell_type": "code",
   "execution_count": 2,
   "metadata": {},
   "outputs": [],
   "source": [
    "t1 = readDataAsTable(ss, '{0}t1.csv'.format(PATH_TO_DATA), 't1', 'false') \\\n",
    "    .toDF('SUBJECT_ID', 'DATE')\n"
   ]
  },
  {
   "cell_type": "code",
   "execution_count": 4,
   "metadata": {},
   "outputs": [],
   "source": [
    "patients = readDataAsTable(ss, '{0}PATIENTS.csv'.format(PATH_TO_DATA), 'patients', 'true')"
   ]
  },
  {
   "cell_type": "code",
   "execution_count": 8,
   "metadata": {},
   "outputs": [],
   "source": [
    "admissions = readDataAsTable(ss, '{0}ADMISSIONS.csv'.format(PATH_TO_DATA), 'patients', 'true')"
   ]
  },
  {
   "cell_type": "code",
   "execution_count": 6,
   "metadata": {},
   "outputs": [
    {
     "data": {
      "text/plain": [
       "46520"
      ]
     },
     "execution_count": 6,
     "metadata": {},
     "output_type": "execute_result"
    }
   ],
   "source": [
    "patients.count()"
   ]
  },
  {
   "cell_type": "code",
   "execution_count": 7,
   "metadata": {},
   "outputs": [
    {
     "data": {
      "text/plain": [
       "39364"
      ]
     },
     "execution_count": 7,
     "metadata": {},
     "output_type": "execute_result"
    }
   ],
   "source": [
    "t1.count()"
   ]
  },
  {
   "cell_type": "code",
   "execution_count": 9,
   "metadata": {},
   "outputs": [
    {
     "data": {
      "text/plain": [
       "58976"
      ]
     },
     "execution_count": 9,
     "metadata": {},
     "output_type": "execute_result"
    }
   ],
   "source": [
    "admissions.count()"
   ]
  },
  {
   "cell_type": "code",
   "execution_count": 11,
   "metadata": {},
   "outputs": [],
   "source": [
    "firstAdmit = admissions.groupby(admissions['SUBJECT_ID']) \\\n",
    "    .agg(func.min(admissions[\"ADMITTIME\"]).alias('FIRST_ADMIT'))"
   ]
  },
  {
   "cell_type": "code",
   "execution_count": 12,
   "metadata": {},
   "outputs": [
    {
     "data": {
      "text/plain": [
       "[Row(SUBJECT_ID=148, FIRST_ADMIT=datetime.datetime(2107, 9, 5, 14, 58)),\n",
       " Row(SUBJECT_ID=463, FIRST_ADMIT=datetime.datetime(2198, 10, 5, 16, 43)),\n",
       " Row(SUBJECT_ID=471, FIRST_ADMIT=datetime.datetime(2122, 7, 22, 14, 4)),\n",
       " Row(SUBJECT_ID=833, FIRST_ADMIT=datetime.datetime(2137, 5, 23, 4, 46))]"
      ]
     },
     "execution_count": 12,
     "metadata": {},
     "output_type": "execute_result"
    }
   ],
   "source": [
    "firstAdmit.take(4)"
   ]
  },
  {
   "cell_type": "code",
   "execution_count": 19,
   "metadata": {},
   "outputs": [],
   "source": [
    "patientsAndAdmissions = patients.join(firstAdmit, patients.SUBJECT_ID == firstAdmit.SUBJECT_ID)"
   ]
  },
  {
   "cell_type": "code",
   "execution_count": 33,
   "metadata": {},
   "outputs": [],
   "source": [
    "def extractAgeAndGender(r):\n",
    "    age = (r['FIRST_ADMIT'] - r['DOB']).days / 365.2425\n",
    "    \n",
    "    return (r['SUBJECT_ID'], age, r['GENDER'])"
   ]
  },
  {
   "cell_type": "code",
   "execution_count": 39,
   "metadata": {},
   "outputs": [],
   "source": [
    "ageAndGender = patientsAndAdmissions.rdd.map(extractAgeAndGender).toDF(['SUBJECT_ID', 'AGE', 'GENDER'])"
   ]
  },
  {
   "cell_type": "code",
   "execution_count": 40,
   "metadata": {},
   "outputs": [
    {
     "data": {
      "text/plain": [
       "[Row(SUBJECT_ID=249, AGE=74.76402663983518, GENDER='F'),\n",
       " Row(SUBJECT_ID=250, AGE=23.877287007946773, GENDER='F')]"
      ]
     },
     "execution_count": 40,
     "metadata": {},
     "output_type": "execute_result"
    }
   ],
   "source": [
    "ageAndGender.take(2)"
   ]
  },
  {
   "cell_type": "code",
   "execution_count": 41,
   "metadata": {},
   "outputs": [],
   "source": [
    "infected = ageAndGender.join(t1, ageAndGender.SUBJECT_ID == t1.SUBJECT_ID)"
   ]
  },
  {
   "cell_type": "code",
   "execution_count": 42,
   "metadata": {},
   "outputs": [],
   "source": [
    "notInfected = ageAndGender.join(t1, ageAndGender.SUBJECT_ID == t1.SUBJECT_ID, 'left') \\\n",
    "    .where(t1['SUBJECT_ID'].isNull())"
   ]
  },
  {
   "cell_type": "code",
   "execution_count": 48,
   "metadata": {},
   "outputs": [
    {
     "data": {
      "text/plain": [
       "6772"
      ]
     },
     "execution_count": 48,
     "metadata": {},
     "output_type": "execute_result"
    }
   ],
   "source": [
    "infected.filter(infected['AGE'] <= 18 & infected['AGE'] <= 18).count()"
   ]
  },
  {
   "cell_type": "code",
   "execution_count": 44,
   "metadata": {},
   "outputs": [
    {
     "data": {
      "text/plain": [
       "7156"
      ]
     },
     "execution_count": 44,
     "metadata": {},
     "output_type": "execute_result"
    }
   ],
   "source": [
    "notInfected.count()"
   ]
  },
  {
   "cell_type": "code",
   "execution_count": 65,
   "metadata": {},
   "outputs": [],
   "source": [
    "def getStats(df):\n",
    "    females = df.filter(df['GENDER'] == 'F').count()\n",
    "    males = df.filter(df['GENDER'] == 'M').count()\n",
    "    seventeenAndUnder = df.filter(df['AGE'] < 18).count()\n",
    "    eighteen = df.filter((df['AGE'] >= 18) & (df['AGE'] < 30)).count()\n",
    "    thirty = df.filter( (df['AGE'] >= 30) & (df['AGE'] < 40) ).count()\n",
    "    forty = df.filter( (df['AGE'] >= 40) & (df['AGE'] < 50) ).count()\n",
    "    fifty = df.filter( (df['AGE'] >= 50) & (df['AGE'] < 60) ).count()\n",
    "    sixty = df.filter( (df['AGE'] >= 60) & (df['AGE'] < 70) ).count()\n",
    "    seventy = df.filter( df['AGE'] >= 70).count()\n",
    "    \n",
    "    print(f'Women: {females}')\n",
    "    print(f'males: {males}')    \n",
    "    print(f'seventeenAndUnder: {seventeenAndUnder}')    \n",
    "    print(f'eighteen: {eighteen}')    \n",
    "    print(f'thirty: {thirty}')    \n",
    "    print(f'forty: {forty}')    \n",
    "    print(f'fifty: {fifty}')    \n",
    "    print(f'sixty: {sixty}')        \n",
    "    print(f'seventy: {seventy}')        "
   ]
  },
  {
   "cell_type": "code",
   "execution_count": 66,
   "metadata": {},
   "outputs": [
    {
     "name": "stdout",
     "output_type": "stream",
     "text": [
      "Women: 17608\n",
      "males: 21756\n",
      "seventeenAndUnder: 6772\n",
      "eighteen: 1608\n",
      "thirty: 1732\n",
      "forty: 3415\n",
      "fifty: 5523\n",
      "sixty: 6586\n",
      "seventy: 13728\n"
     ]
    }
   ],
   "source": [
    "getStats(infected)"
   ]
  },
  {
   "cell_type": "code",
   "execution_count": 67,
   "metadata": {},
   "outputs": [
    {
     "name": "stdout",
     "output_type": "stream",
     "text": [
      "Women: 2791\n",
      "males: 4365\n",
      "seventeenAndUnder: 1200\n",
      "eighteen: 381\n",
      "thirty: 354\n",
      "forty: 747\n",
      "fifty: 1148\n",
      "sixty: 1254\n",
      "seventy: 2072\n"
     ]
    }
   ],
   "source": [
    "getStats(notInfected)"
   ]
  },
  {
   "cell_type": "code",
   "execution_count": null,
   "metadata": {},
   "outputs": [],
   "source": []
  }
 ],
 "metadata": {
  "kernelspec": {
   "display_name": "Python 3",
   "language": "python",
   "name": "python3"
  },
  "language_info": {
   "codemirror_mode": {
    "name": "ipython",
    "version": 3
   },
   "file_extension": ".py",
   "mimetype": "text/x-python",
   "name": "python",
   "nbconvert_exporter": "python",
   "pygments_lexer": "ipython3",
   "version": "3.6.3"
  }
 },
 "nbformat": 4,
 "nbformat_minor": 2
}
